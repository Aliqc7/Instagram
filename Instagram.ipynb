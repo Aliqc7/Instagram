{
 "cells": [
  {
   "cell_type": "code",
   "execution_count": 2,
   "outputs": [
    {
     "name": "stderr",
     "output_type": "stream",
     "text": [
      "2023-03-12 12:35:31.757133: I tensorflow/core/platform/cpu_feature_guard.cc:193] This TensorFlow binary is optimized with oneAPI Deep Neural Network Library (oneDNN) to use the following CPU instructions in performance-critical operations:  AVX2 FMA\n",
      "To enable them in other operations, rebuild TensorFlow with the appropriate compiler flags.\n",
      "2023-03-12 12:35:31.898969: W tensorflow/compiler/xla/stream_executor/platform/default/dso_loader.cc:64] Could not load dynamic library 'libcudart.so.11.0'; dlerror: libcudart.so.11.0: cannot open shared object file: No such file or directory\n",
      "2023-03-12 12:35:31.898989: I tensorflow/compiler/xla/stream_executor/cuda/cudart_stub.cc:29] Ignore above cudart dlerror if you do not have a GPU set up on your machine.\n",
      "2023-03-12 12:35:32.740181: W tensorflow/compiler/xla/stream_executor/platform/default/dso_loader.cc:64] Could not load dynamic library 'libnvinfer.so.7'; dlerror: libnvinfer.so.7: cannot open shared object file: No such file or directory\n",
      "2023-03-12 12:35:32.740237: W tensorflow/compiler/xla/stream_executor/platform/default/dso_loader.cc:64] Could not load dynamic library 'libnvinfer_plugin.so.7'; dlerror: libnvinfer_plugin.so.7: cannot open shared object file: No such file or directory\n",
      "2023-03-12 12:35:32.740244: W tensorflow/compiler/tf2tensorrt/utils/py_utils.cc:38] TF-TRT Warning: Cannot dlopen some TensorRT libraries. If you would like to use Nvidia GPU with TensorRT, please make sure the missing libraries mentioned above are installed properly.\n"
     ]
    }
   ],
   "source": [
    "from tensorflow.keras.applications.resnet50 import ResNet50\n",
    "from tensorflow.keras.preprocessing import image\n",
    "from tensorflow.keras.applications.resnet50 import preprocess_input, decode_predictions\n",
    "import numpy as np"
   ],
   "metadata": {
    "collapsed": false
   }
  },
  {
   "cell_type": "code",
   "execution_count": 36,
   "outputs": [
    {
     "name": "stdout",
     "output_type": "stream",
     "text": [
      "1/1 [==============================] - 1s 606ms/step\n",
      "Predicted: [('n07697313', 'cheeseburger', 0.5758976), ('n02776631', 'bakery', 0.3755974), ('n07836838', 'chocolate_sauce', 0.013713203)]\n"
     ]
    }
   ],
   "source": [
    "model = ResNet50(weights='imagenet')\n",
    "\n",
    "img_path = 'Burger.jpg'\n",
    "img = image.load_img(img_path, target_size=(224, 224))\n",
    "x = image.img_to_array(img)\n",
    "y = np.expand_dims(x, axis=0)\n",
    "z = preprocess_input(y)\n",
    "\n",
    "preds = model.predict(z)\n",
    "# decode the results into a list of tuples (class, description, probability)\n",
    "# (one such list for each sample in the batch)\n",
    "print('Predicted:', decode_predictions(preds, top=3)[0])\n",
    "# Predicted: [(u'n02504013', u'Indian_elephant', 0.82658225), (u'n01871265', u'tusker', 0.1122357), (u'n02504458', u'African_elephant', 0.061040461)]"
   ],
   "metadata": {
    "collapsed": false
   }
  },
  {
   "cell_type": "code",
   "execution_count": 54,
   "outputs": [],
   "source": [
    "import requests\n",
    "import json"
   ],
   "metadata": {
    "collapsed": false
   }
  },
  {
   "cell_type": "code",
   "execution_count": 70,
   "outputs": [],
   "source": [
    "key = \"0fb4b0b9f60569d4e7feb311b85d2953\""
   ],
   "metadata": {
    "collapsed": false
   }
  },
  {
   "cell_type": "code",
   "execution_count": 124,
   "outputs": [],
   "source": [
    "par = {\"format\":\"json\",\n",
    "       \"api_key\": key,\n",
    "       \"tags\": \"dog\",\n",
    "       \"per_page\": 5,\n",
    "       \"extras\": [\"description\", \"license\", \"url_o\"],\n",
    "       \"page\": 2}"
   ],
   "metadata": {
    "collapsed": false
   }
  },
  {
   "cell_type": "code",
   "execution_count": 125,
   "outputs": [],
   "source": [
    "url = \"https://www.flickr.com/services/rest/?method=flickr.photos.search\""
   ],
   "metadata": {
    "collapsed": false
   }
  },
  {
   "cell_type": "code",
   "execution_count": 126,
   "outputs": [],
   "source": [
    "response = requests.get(url, params=par)"
   ],
   "metadata": {
    "collapsed": false
   }
  },
  {
   "cell_type": "code",
   "execution_count": 138,
   "outputs": [
    {
     "data": {
      "text/plain": "'jsonFlickrApi({\"photos\":{\"page\":2,\"pages\":15264,\"perpage\":5,\"total\":76318,\"photo\":[{\"id\":\"52739377072\",\"owner\":\"99656237@N00\",\"secret\":\"677f2db035\",\"server\":\"65535\",\"farm\":66,\"title\":\"Charger\",\"ispublic\":1,\"isfriend\":0,\"isfamily\":0,\"url_o\":\"https:\\\\/\\\\/live.staticflickr.com\\\\/65535\\\\/52739377072_79bcbb4d76_o.jpg\",\"height_o\":3547,\"width_o\":5313},{\"id\":\"52740381038\",\"owner\":\"99656237@N00\",\"secret\":\"b2721152d0\",\"server\":\"65535\",\"farm\":66,\"title\":\"Morning walking\",\"ispublic\":1,\"isfriend\":0,\"isfamily\":0,\"url_o\":\"https:\\\\/\\\\/live.staticflickr.com\\\\/65535\\\\/52740381038_d6fa0eafd8_o.jpg\",\"height_o\":4016,\"width_o\":6016},{\"id\":\"52739770801\",\"owner\":\"51035555243@N01\",\"secret\":\"c0cf27df8d\",\"server\":\"65535\",\"farm\":66,\"title\":\"Found Kodachrome Slide\",\"ispublic\":1,\"isfriend\":0,\"isfamily\":0,\"url_o\":\"https:\\\\/\\\\/live.staticflickr.com\\\\/65535\\\\/52739770801_2da3fbd41a_o.jpg\",\"height_o\":4164,\"width_o\":2749},{\"id\":\"52739245602\",\"owner\":\"146978849@N03\",\"secret\":\"133b4051a6\",\"server\":\"65535\",\"farm\":66,\"title\":\"Button getting pampered\",\"ispublic\":1,\"isfriend\":0,\"isfamily\":0,\"url_o\":\"https:\\\\/\\\\/live.staticflickr.com\\\\/65535\\\\/52739245602_16cdbe64a2_o.jpg\",\"height_o\":1419,\"width_o\":2128},{\"id\":\"52739601788\",\"owner\":\"197790423@N06\",\"secret\":\"2a4daa35f9\",\"server\":\"65535\",\"farm\":66,\"title\":\"Untitled-255\",\"ispublic\":1,\"isfriend\":0,\"isfamily\":0,\"url_o\":\"https:\\\\/\\\\/live.staticflickr.com\\\\/65535\\\\/52739601788_50e3d7883c_o.jpg\",\"height_o\":5169,\"width_o\":4160}]},\"stat\":\"ok\"})'"
     },
     "execution_count": 138,
     "metadata": {},
     "output_type": "execute_result"
    }
   ],
   "source": [
    "response.text"
   ],
   "metadata": {
    "collapsed": false
   }
  },
  {
   "cell_type": "code",
   "execution_count": 139,
   "outputs": [],
   "source": [
    "str = '{\"photos\":{\"page\":2,\"pages\":15264,\"perpage\":5,\"total\":76318,\"photo\":[{\"id\":\"52739377072\",\"owner\":\"99656237@N00\",\"secret\":\"677f2db035\",\"server\":\"65535\",\"farm\":66,\"title\":\"Charger\",\"ispublic\":1,\"isfriend\":0,\"isfamily\":0,\"url_o\":\"https:\\\\/\\\\/live.staticflickr.com\\\\/65535\\\\/52739377072_79bcbb4d76_o.jpg\",\"height_o\":3547,\"width_o\":5313},{\"id\":\"52740381038\",\"owner\":\"99656237@N00\",\"secret\":\"b2721152d0\",\"server\":\"65535\",\"farm\":66,\"title\":\"Morning walking\",\"ispublic\":1,\"isfriend\":0,\"isfamily\":0,\"url_o\":\"https:\\\\/\\\\/live.staticflickr.com\\\\/65535\\\\/52740381038_d6fa0eafd8_o.jpg\",\"height_o\":4016,\"width_o\":6016},{\"id\":\"52739770801\",\"owner\":\"51035555243@N01\",\"secret\":\"c0cf27df8d\",\"server\":\"65535\",\"farm\":66,\"title\":\"Found Kodachrome Slide\",\"ispublic\":1,\"isfriend\":0,\"isfamily\":0,\"url_o\":\"https:\\\\/\\\\/live.staticflickr.com\\\\/65535\\\\/52739770801_2da3fbd41a_o.jpg\",\"height_o\":4164,\"width_o\":2749},{\"id\":\"52739245602\",\"owner\":\"146978849@N03\",\"secret\":\"133b4051a6\",\"server\":\"65535\",\"farm\":66,\"title\":\"Button getting pampered\",\"ispublic\":1,\"isfriend\":0,\"isfamily\":0,\"url_o\":\"https:\\\\/\\\\/live.staticflickr.com\\\\/65535\\\\/52739245602_16cdbe64a2_o.jpg\",\"height_o\":1419,\"width_o\":2128},{\"id\":\"52739601788\",\"owner\":\"197790423@N06\",\"secret\":\"2a4daa35f9\",\"server\":\"65535\",\"farm\":66,\"title\":\"Untitled-255\",\"ispublic\":1,\"isfriend\":0,\"isfamily\":0,\"url_o\":\"https:\\\\/\\\\/live.staticflickr.com\\\\/65535\\\\/52739601788_50e3d7883c_o.jpg\",\"height_o\":5169,\"width_o\":4160}]},\"stat\":\"ok\"}'"
   ],
   "metadata": {
    "collapsed": false
   }
  },
  {
   "cell_type": "code",
   "execution_count": 140,
   "outputs": [
    {
     "data": {
      "text/plain": "'{\"photos\":{\"page\":2,\"pages\":15264,\"perpage\":5,\"total\":76318,\"photo\":[{\"id\":\"52739377072\",\"owner\":\"99656237@N00\",\"secret\":\"677f2db035\",\"server\":\"65535\",\"farm\":66,\"title\":\"Charger\",\"ispublic\":1,\"isfriend\":0,\"isfamily\":0,\"url_o\":\"https:\\\\/\\\\/live.staticflickr.com\\\\/65535\\\\/52739377072_79bcbb4d76_o.jpg\",\"height_o\":3547,\"width_o\":5313},{\"id\":\"52740381038\",\"owner\":\"99656237@N00\",\"secret\":\"b2721152d0\",\"server\":\"65535\",\"farm\":66,\"title\":\"Morning walking\",\"ispublic\":1,\"isfriend\":0,\"isfamily\":0,\"url_o\":\"https:\\\\/\\\\/live.staticflickr.com\\\\/65535\\\\/52740381038_d6fa0eafd8_o.jpg\",\"height_o\":4016,\"width_o\":6016},{\"id\":\"52739770801\",\"owner\":\"51035555243@N01\",\"secret\":\"c0cf27df8d\",\"server\":\"65535\",\"farm\":66,\"title\":\"Found Kodachrome Slide\",\"ispublic\":1,\"isfriend\":0,\"isfamily\":0,\"url_o\":\"https:\\\\/\\\\/live.staticflickr.com\\\\/65535\\\\/52739770801_2da3fbd41a_o.jpg\",\"height_o\":4164,\"width_o\":2749},{\"id\":\"52739245602\",\"owner\":\"146978849@N03\",\"secret\":\"133b4051a6\",\"server\":\"65535\",\"farm\":66,\"title\":\"Button getting pampered\",\"ispublic\":1,\"isfriend\":0,\"isfamily\":0,\"url_o\":\"https:\\\\/\\\\/live.staticflickr.com\\\\/65535\\\\/52739245602_16cdbe64a2_o.jpg\",\"height_o\":1419,\"width_o\":2128},{\"id\":\"52739601788\",\"owner\":\"197790423@N06\",\"secret\":\"2a4daa35f9\",\"server\":\"65535\",\"farm\":66,\"title\":\"Untitled-255\",\"ispublic\":1,\"isfriend\":0,\"isfamily\":0,\"url_o\":\"https:\\\\/\\\\/live.staticflickr.com\\\\/65535\\\\/52739601788_50e3d7883c_o.jpg\",\"height_o\":5169,\"width_o\":4160}]},\"stat\":\"ok\"}'"
     },
     "execution_count": 140,
     "metadata": {},
     "output_type": "execute_result"
    }
   ],
   "source": [
    "str"
   ],
   "metadata": {
    "collapsed": false
   }
  },
  {
   "cell_type": "code",
   "execution_count": 141,
   "outputs": [
    {
     "data": {
      "text/plain": "{'photos': {'page': 2,\n  'pages': 15264,\n  'perpage': 5,\n  'total': 76318,\n  'photo': [{'id': '52739377072',\n    'owner': '99656237@N00',\n    'secret': '677f2db035',\n    'server': '65535',\n    'farm': 66,\n    'title': 'Charger',\n    'ispublic': 1,\n    'isfriend': 0,\n    'isfamily': 0,\n    'url_o': 'https://live.staticflickr.com/65535/52739377072_79bcbb4d76_o.jpg',\n    'height_o': 3547,\n    'width_o': 5313},\n   {'id': '52740381038',\n    'owner': '99656237@N00',\n    'secret': 'b2721152d0',\n    'server': '65535',\n    'farm': 66,\n    'title': 'Morning walking',\n    'ispublic': 1,\n    'isfriend': 0,\n    'isfamily': 0,\n    'url_o': 'https://live.staticflickr.com/65535/52740381038_d6fa0eafd8_o.jpg',\n    'height_o': 4016,\n    'width_o': 6016},\n   {'id': '52739770801',\n    'owner': '51035555243@N01',\n    'secret': 'c0cf27df8d',\n    'server': '65535',\n    'farm': 66,\n    'title': 'Found Kodachrome Slide',\n    'ispublic': 1,\n    'isfriend': 0,\n    'isfamily': 0,\n    'url_o': 'https://live.staticflickr.com/65535/52739770801_2da3fbd41a_o.jpg',\n    'height_o': 4164,\n    'width_o': 2749},\n   {'id': '52739245602',\n    'owner': '146978849@N03',\n    'secret': '133b4051a6',\n    'server': '65535',\n    'farm': 66,\n    'title': 'Button getting pampered',\n    'ispublic': 1,\n    'isfriend': 0,\n    'isfamily': 0,\n    'url_o': 'https://live.staticflickr.com/65535/52739245602_16cdbe64a2_o.jpg',\n    'height_o': 1419,\n    'width_o': 2128},\n   {'id': '52739601788',\n    'owner': '197790423@N06',\n    'secret': '2a4daa35f9',\n    'server': '65535',\n    'farm': 66,\n    'title': 'Untitled-255',\n    'ispublic': 1,\n    'isfriend': 0,\n    'isfamily': 0,\n    'url_o': 'https://live.staticflickr.com/65535/52739601788_50e3d7883c_o.jpg',\n    'height_o': 5169,\n    'width_o': 4160}]},\n 'stat': 'ok'}"
     },
     "execution_count": 141,
     "metadata": {},
     "output_type": "execute_result"
    }
   ],
   "source": [
    "json.loads(str)"
   ],
   "metadata": {
    "collapsed": false
   }
  },
  {
   "cell_type": "code",
   "execution_count": 146,
   "outputs": [],
   "source": [
    "image_url = \"https://live.staticflickr.com/65535/52739377072_79bcbb4d76_o.jpg\""
   ],
   "metadata": {
    "collapsed": false
   }
  },
  {
   "cell_type": "code",
   "execution_count": 147,
   "outputs": [],
   "source": [
    "img_data = requests.get(image_url).content\n",
    "with open('image1.jpg', 'wb') as handler:\n",
    "    handler.write(img_data)"
   ],
   "metadata": {
    "collapsed": false
   }
  },
  {
   "cell_type": "code",
   "execution_count": null,
   "outputs": [],
   "source": [],
   "metadata": {
    "collapsed": false
   }
  }
 ],
 "metadata": {
  "kernelspec": {
   "display_name": "Python 3",
   "language": "python",
   "name": "python3"
  },
  "language_info": {
   "codemirror_mode": {
    "name": "ipython",
    "version": 2
   },
   "file_extension": ".py",
   "mimetype": "text/x-python",
   "name": "python",
   "nbconvert_exporter": "python",
   "pygments_lexer": "ipython2",
   "version": "2.7.6"
  }
 },
 "nbformat": 4,
 "nbformat_minor": 0
}
